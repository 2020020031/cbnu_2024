{
 "cells": [
  {
   "cell_type": "code",
   "execution_count": 1,
   "metadata": {},
   "outputs": [],
   "source": [
    "import os\n",
    "import sys\n",
    "\n",
    "try :\n",
    "    from google.colab import drive\n",
    "    drive.mount(\"/content/drive\", force_remount=True)\n",
    "    sys.path.append(\"/content/drive/MyDrive/CBNU/Classification\")\n",
    "    print(os.getcwd())\n",
    "    os.chdir(\"/content/drive/MyDrive/CBNU/Classification\")\n",
    "    print(os.getcwd())\n",
    "except ModuleNotFoundError:\n",
    "    print(\"Not in colab, continue\")"
   ]
  },
  {
   "cell_type": "code",
   "execution_count": null,
   "metadata": {},
   "outputs": [],
   "source": [
    "from options import BaseOptions, TrainOptions, TestOptions"
   ]
  },
  {
   "cell_type": "code",
   "execution_count": 2,
   "metadata": {},
   "outputs": [
    {
     "name": "stdout",
     "output_type": "stream",
     "text": [
      "Namespace(name='default', seed=1111, in_channels=1, num_classes=2, image_size=224, data_root='/Users/eunsu/CBNU/Classification/Dataset', save_root='/Users/eunsu/CBNU/Classification/Result')\n"
     ]
    }
   ],
   "source": [
    "opt = BaseOptions().parse()\n",
    "print(opt)"
   ]
  },
  {
   "cell_type": "code",
   "execution_count": 3,
   "metadata": {},
   "outputs": [
    {
     "name": "stdout",
     "output_type": "stream",
     "text": [
      "Namespace(name='default', seed=1111, in_channels=1, num_classes=2, image_size=224, data_root='/Users/eunsu/CBNU/Classification/Dataset', save_root='/Users/eunsu/CBNU/Classification/Result', is_train=True, gpu_id=0, batch_size=4, num_workers=2, num_epochs=10, lr=0.0002)\n"
     ]
    }
   ],
   "source": [
    "opt_train = TrainOptions().parse()\n",
    "print(opt_train)"
   ]
  },
  {
   "cell_type": "code",
   "execution_count": 4,
   "metadata": {},
   "outputs": [
    {
     "name": "stdout",
     "output_type": "stream",
     "text": [
      "Namespace(name='default', seed=1111, in_channels=1, num_classes=2, image_size=224, data_root='/Users/eunsu/CBNU/Classification/Dataset', save_root='/Users/eunsu/CBNU/Classification/Result', is_train=False, gpu_id=0, batch_size=4, num_workers=2, epoch_test=1)\n"
     ]
    }
   ],
   "source": [
    "opt_test = TestOptions().parse()\n",
    "print(opt_test)"
   ]
  },
  {
   "cell_type": "code",
   "execution_count": null,
   "metadata": {},
   "outputs": [],
   "source": []
  }
 ],
 "metadata": {
  "kernelspec": {
   "display_name": "cbnu",
   "language": "python",
   "name": "python3"
  },
  "language_info": {
   "codemirror_mode": {
    "name": "ipython",
    "version": 3
   },
   "file_extension": ".py",
   "mimetype": "text/x-python",
   "name": "python",
   "nbconvert_exporter": "python",
   "pygments_lexer": "ipython3",
   "version": "3.11.8"
  }
 },
 "nbformat": 4,
 "nbformat_minor": 2
}
